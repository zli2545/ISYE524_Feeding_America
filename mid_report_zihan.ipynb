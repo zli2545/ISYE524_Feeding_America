{
 "cells": [
  {
   "cell_type": "markdown",
   "id": "6f12939f",
   "metadata": {},
   "source": [
    "# Model construction"
   ]
  },
  {
   "cell_type": "markdown",
   "id": "a3108ed2",
   "metadata": {},
   "source": [
    "Abstracted from the broader **Feeding America (FA)** food distribution context, we focus on the optimization of food allocation among states. For our current project, the problem is refined to center around **Wisconsin (WI)** and its neighboring states, including **Michigan (MI), Minnesota (MN), Iowa (IA), and Illinois (IL)**. We utilize the annual food insecurity population data from FA and plan to use the latest data from 2023 as the starting point for building our models. Considering Wisconsin’s reputation as America’s Dairyland, we further instantiate the context as a dairy product allocation and transportation problem. The models are constructed within a **Min-Cost Network Flow (MCNF)** problem framework.\n",
    "\n",
    "We differentiate the granularity of the problem in two aspects:  \n",
    "1. Number and scale of the receiving nodes  \n",
    "2. Whether to include a benefit trade-off term in the objective function  \n",
    "\n",
    "These aspects jointly influence the model construction. Consequently, we develop the model in a graded manner:  \n",
    "1. **Basic model**: Each state is treated as a holistic node with aggregated demand, focusing solely on minimizing transportation cost.  \n",
    "2. **Subgroup trade-off model**: Each state node is further split into subgroup nodes (**Children, Adults, Seniors**) with differentiated demands and priorities. The prioritization of specific subgroups introduces a trade-off term that balances subgroup benefit with transportation cost in the objective function.\n"
   ]
  },
  {
   "cell_type": "markdown",
   "id": "b8ba3ffb",
   "metadata": {},
   "source": [
    "## Basic model"
   ]
  },
  {
   "cell_type": "markdown",
   "id": "5a6c6822",
   "metadata": {},
   "source": [
    "### Model structure"
   ]
  },
  {
   "cell_type": "markdown",
   "id": "d12fa440",
   "metadata": {},
   "source": [
    "For the basic model, we consider the demand of each state generally, which means the demand is approximated by the overall population of all subgroups in each state.\n",
    "\n",
    "The involved states will be structured as a network, and in the basic framework, we define:\n",
    "\n",
    "- WI is treated as the **source**, with available supply defined as its dairy production minus local consumption.\n",
    "- IL functions as both a **demand node** (to cover its own food-insecure population) and a **redistribution hub**, forwarding surplus food to MI, MN, and IA.\n",
    "- MI, MN, and IA are purely **demand nodes** with requirements derived from food insecurity statistics.\n"
   ]
  },
  {
   "cell_type": "markdown",
   "id": "c60beff3",
   "metadata": {},
   "source": [
    "### Objective function of basic model"
   ]
  },
  {
   "cell_type": "markdown",
   "id": "47c8594a",
   "metadata": {},
   "source": [
    "The cost is given by the transportation and cold-chain storage We're aiming to:\n",
    "\n",
    "- **Minimize total transportation cost** across the network, given estimated per-unit costs based on transportation and cold-chain logistics of dairy product."
   ]
  },
  {
   "cell_type": "markdown",
   "id": "b812e849",
   "metadata": {},
   "source": [
    "### Constraints"
   ]
  },
  {
   "cell_type": "markdown",
   "id": "05bcb381",
   "metadata": {},
   "source": [
    "#### Demand constraint\n",
    "\n",
    "In the basic model, the local demand of WI will be satisfied with priority, so only the neighboring state nodes have demand, and the available dairy product amount will be given as the output of WI subtracted by in-state demand directly."
   ]
  },
  {
   "cell_type": "markdown",
   "id": "73d5dc93",
   "metadata": {},
   "source": []
  }
 ],
 "metadata": {
  "language_info": {
   "name": "python"
  }
 },
 "nbformat": 4,
 "nbformat_minor": 5
}
