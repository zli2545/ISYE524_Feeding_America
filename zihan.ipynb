{
 "cells": [
  {
   "cell_type": "markdown",
   "id": "a555e021",
   "metadata": {},
   "source": [
    "## Mid-term progress"
   ]
  },
  {
   "cell_type": "markdown",
   "id": "4a55e17c",
   "metadata": {},
   "source": [
    "### Background"
   ]
  },
  {
   "cell_type": "markdown",
   "id": "8664a397",
   "metadata": {},
   "source": [
    "Feed America is an organization focusing on helping people in food insecurity out."
   ]
  },
  {
   "cell_type": "markdown",
   "id": "793118ce",
   "metadata": {},
   "source": [
    "We define the preliminary model around Wisconsin."
   ]
  },
  {
   "cell_type": "markdown",
   "id": "a49f93e6",
   "metadata": {},
   "source": []
  }
 ],
 "metadata": {
  "language_info": {
   "name": "python"
  }
 },
 "nbformat": 4,
 "nbformat_minor": 5
}
